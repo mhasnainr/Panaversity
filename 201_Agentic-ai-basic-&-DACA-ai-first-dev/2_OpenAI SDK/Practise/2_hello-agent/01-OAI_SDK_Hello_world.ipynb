{
  "cells": [
    {
      "cell_type": "markdown",
      "metadata": {
        "id": "30327e3a"
      },
      "source": [
        "# 🚀 Exploring the openai-agents Library with Gemini\n",
        "This notebook shows how to use the openai-agents library with Gemini API to build conversational agents—covering two execution methods"
      ]
    },
    {
      "cell_type": "markdown",
      "metadata": {
        "id": "wd12XkqwSRxc"
      },
      "source": [
        "# 📦 installation"
      ]
    },
    {
      "cell_type": "code",
      "execution_count": 1,
      "metadata": {
        "id": "8U2DuZP0_1Iu",
        "colab": {
          "base_uri": "https://localhost:8080/"
        },
        "outputId": "8281038d-cfa2-4ae6-ed97-f1cbbb016a03"
      },
      "outputs": [
        {
          "output_type": "stream",
          "name": "stdout",
          "text": [
            "\u001b[2K     \u001b[90m━━━━━━━━━━━━━━━━━━━━━━━━━━━━━━━━━━━━━━━━\u001b[0m \u001b[32m61.0/61.0 kB\u001b[0m \u001b[31m3.7 MB/s\u001b[0m eta \u001b[36m0:00:00\u001b[0m\n",
            "\u001b[2K   \u001b[90m━━━━━━━━━━━━━━━━━━━━━━━━━━━━━━━━━━━━━━━━\u001b[0m \u001b[32m164.3/164.3 kB\u001b[0m \u001b[31m9.9 MB/s\u001b[0m eta \u001b[36m0:00:00\u001b[0m\n",
            "\u001b[2K   \u001b[90m━━━━━━━━━━━━━━━━━━━━━━━━━━━━━━━━━━━━━━━━\u001b[0m \u001b[32m137.1/137.1 kB\u001b[0m \u001b[31m13.6 MB/s\u001b[0m eta \u001b[36m0:00:00\u001b[0m\n",
            "\u001b[2K   \u001b[90m━━━━━━━━━━━━━━━━━━━━━━━━━━━━━━━━━━━━━━━━\u001b[0m \u001b[32m158.8/158.8 kB\u001b[0m \u001b[31m13.8 MB/s\u001b[0m eta \u001b[36m0:00:00\u001b[0m\n",
            "\u001b[2K   \u001b[90m━━━━━━━━━━━━━━━━━━━━━━━━━━━━━━━━━━━━━━━━\u001b[0m \u001b[32m45.2/45.2 kB\u001b[0m \u001b[31m4.0 MB/s\u001b[0m eta \u001b[36m0:00:00\u001b[0m\n",
            "\u001b[?25h"
          ]
        }
      ],
      "source": [
        "!pip install -Uq openai-agents"
      ]
    },
    {
      "cell_type": "markdown",
      "metadata": {
        "id": "jL-reb6RR_H6"
      },
      "source": [
        "# 📦 Imports"
      ]
    },
    {
      "cell_type": "code",
      "execution_count": 2,
      "metadata": {
        "id": "OE_-gMwUDw8b"
      },
      "outputs": [],
      "source": [
        "import nest_asyncio\n",
        "nest_asyncio.apply()"
      ]
    },
    {
      "cell_type": "markdown",
      "metadata": {
        "id": "MywTysH-Rn2h"
      },
      "source": [
        "# 📦 Imports"
      ]
    },
    {
      "cell_type": "code",
      "execution_count": 11,
      "metadata": {
        "id": "dvNo75PtD5YL"
      },
      "outputs": [],
      "source": [
        "from agents import Agent, Runner, AsyncOpenAI, OpenAIChatCompletionsModel, set_tracing_disabled\n",
        "# Runner: it runs your agent loop"
      ]
    },
    {
      "cell_type": "markdown",
      "metadata": {
        "id": "uO3deejXRZw8"
      },
      "source": [
        "# 🔐 Step 1: Setup for Api Keys"
      ]
    },
    {
      "cell_type": "code",
      "execution_count": 4,
      "metadata": {
        "id": "9p1ynoc0EDCx"
      },
      "outputs": [],
      "source": [
        "from google.colab import userdata\n",
        "gemini_api_key = userdata.get(\"GOOGLE_API_KEY\")"
      ]
    },
    {
      "cell_type": "markdown",
      "metadata": {
        "id": "S4GITaFOP526"
      },
      "source": [
        "# 🌐  Step 2: Client Setup for Connecting to **Gemini**"
      ]
    },
    {
      "cell_type": "code",
      "execution_count": 5,
      "metadata": {
        "id": "IofWknGLEHHI"
      },
      "outputs": [],
      "source": [
        "# Tracing disabled\n",
        "set_tracing_disabled(disabled=True)\n",
        "\n",
        "# 1. Which LLM Service?\n",
        "external_client: AsyncOpenAI = AsyncOpenAI(\n",
        "    api_key=gemini_api_key,\n",
        "    base_url=\"https://generativelanguage.googleapis.com/v1beta/openai/\",\n",
        ")\n",
        "\n",
        "# 2. Which LLM Model?\n",
        "llm_model: OpenAIChatCompletionsModel = OpenAIChatCompletionsModel(\n",
        "    model=\"gemini-2.5-flash\",\n",
        "    openai_client=external_client\n",
        ")"
      ]
    },
    {
      "cell_type": "markdown",
      "metadata": {
        "id": "Upg62mcUJUB4"
      },
      "source": [
        "# 💬  Step 3 Running Agent Synchronously"
      ]
    },
    {
      "cell_type": "code",
      "execution_count": 13,
      "metadata": {
        "colab": {
          "base_uri": "https://localhost:8080/"
        },
        "collapsed": true,
        "id": "4QgfJqHZJV_M",
        "outputId": "dd9b8218-dd9a-4065-c7ed-ea631b03269f"
      },
      "outputs": [
        {
          "output_type": "stream",
          "name": "stdout",
          "text": [
            "\n",
            "CALLING AGENT\n",
            "\n",
            "Estonia presents a remarkably compelling case for a mid-20s Pakistani CS student aspiring to be a tech entrepreneur. It offers a unique combination of factors that can significantly accelerate such an individual's journey compared to staying in Pakistan or even moving to many other established tech hubs.\n",
            "\n",
            "Here's a breakdown of the key reasons:\n",
            "\n",
            "### 1. A Thriving Digital & Startup Ecosystem\n",
            "\n",
            "*   **\"e-Estonia\" - The Digital Nation:** Estonia has built a reputation as the most digitally advanced society in the world. Almost all public services are online, and the mindset is inherently digital-first. This creates an environment where digital innovation is not just supported but expected and integrated into daily life.\n",
            "*   **e-Residency:** This is perhaps the *single most unique and powerful tool* for an aspiring entrepreneur. It allows anyone, anywhere, to establish and manage an EU-based company online, digitally sign documents, and conduct business. While you'd need physical residency to live and work there, e-Residency perfectly complements an entrepreneurial journey by providing a legitimate EU business vehicle from day one.\n",
            "*   **High Concentration of Unicorns:** Despite its small size, Estonia has the highest number of unicorns (startups valued at over $1 billion) per capita in Europe. Companies like Skype, TransferWise (now Wise), Bolt, Pipedrive, and Playtech originated here. This demonstrates a proven track record of scaling global tech businesses.\n",
            "*   **Vibrant Startup Scene:** The ecosystem is active and well-connected. There are numerous incubators (e.g., Startup Wise Guys, Tehnopol), accelerators, co-working spaces, and a strong network of angel investors and VCs. The community is small enough to be accessible yet large enough to be dynamic.\n",
            "*   **Innovation Culture:** Experimentation and rapid iteration are encouraged. Failure is often seen as a learning opportunity, which is crucial for entrepreneurial growth.\n",
            "\n",
            "### 2. Entrepreneur-Friendly Business Environment\n",
            "\n",
            "*   **Ease of Doing Business:** Estonia consistently ranks high globally for ease of doing business. Setting up a company is quick, simple, and can largely be done online (especially with e-Residency).\n",
            "*   **Simple Tax System:** Estonia has a unique corporate tax system where **reinvested profits are not taxed**. Corporate income tax is only paid on distributed profits (dividends). This is incredibly beneficial for startups, allowing them to retain more capital for growth.\n",
            "*   **Access to EU Market:** As an EU member state, a business registered in Estonia gains access to the vast European single market, opening up immense opportunities for scalability that are harder to achieve from Pakistan.\n",
            "*   **Strong Rule of Law & IP Protection:** A stable political environment, low corruption, and robust legal frameworks provide security for businesses and protect intellectual property, which is vital for tech innovation.\n",
            "\n",
            "### 3. World-Class Education & R&D\n",
            "\n",
            "*   **Quality CS Education:** Universities like the University of Tartu and TalTech (Tallinn University of Technology) offer high-quality Computer Science and IT-related programs, many taught in English. These programs often have strong ties to the industry, providing practical skills and networking opportunities.\n",
            "*   **Focus on Applied Research:** Estonian universities are known for their practical approach and collaboration with the private sector, allowing students to work on real-world projects and potentially spin off their own ventures.\n",
            "*   **English as a Business Language:** While Estonian is the official language, English is widely spoken in the tech community, universities, and among younger generations, making it easy for international students and entrepreneurs to integrate.\n",
            "\n",
            "### 4. Practical & Lifestyle Benefits\n",
            "\n",
            "*   **Startup Visa Program:** Estonia offers a dedicated Startup Visa, making it easier for non-EU founders to relocate if their startup idea is approved by an expert committee. This is a direct pathway for an aspiring entrepreneur.\n",
            "*   **Relatively Lower Cost of Living (Compared to Western Europe):** While more expensive than Pakistan, Tallinn and Tartu are significantly more affordable than major tech hubs like London, Berlin, or Amsterdam, especially when considering accommodation and daily expenses. This can make the initial bootstrapping phase of a startup more manageable.\n",
            "*   **High Quality of Life:** Estonia offers a high quality of life, with safe cities, clean air, beautiful nature, and a good work-life balance.\n",
            "*   **Strategic Location:** Its proximity to the Nordics and other European markets provides easy access for business development and partnerships.\n",
            "\n",
            "### Comparison with Pakistan for a Tech Entrepreneur\n",
            "\n",
            "| Feature             | Estonia (Advantages)                                                                 | Pakistan (Challenges/Differences)                                                               |\n",
            "| :------------------ | :----------------------------------------------------------------------------------- | :--------------------------------------------------------------------------------------------- |\n",
            "| **Digital Ecosystem** | Highly advanced, e-residency, government support for tech, high unicorn density.      | Nascent, growing, but still faces infrastructure and policy hurdles.                           |\n",
            "| **Business Env.**   | Extremely easy, low bureaucracy, no corporate tax on reinvested profits, EU market.   | More bureaucracy, complex tax, limited access to international markets from inception.          |\n",
            "| **Funding**         | Accessible angel, VC network within EU, strong international connections.             | Growing but still limited early-stage funding, mostly local.                                   |\n",
            "| **Education**       | Strong CS programs, practical focus, English-taught, industry integration.            | Good CS programs, but often less direct industry linkage for global tech entrepreneurship.     |\n",
            "| **Visa/Immigration** | Dedicated Startup Visa, student visa leads to residency, clear pathways.             | Fewer dedicated pathways for tech entrepreneurs, often requires significant investment.          |\n",
            "| **Rule of Law/IP**  | Strong and reliable, protects innovation.                                            | Can be challenging, concerns about enforcement and protection.                                 |\n",
            "| **Market Access**   | Direct access to EU single market (500M+ consumers).                               | Primarily domestic market; international expansion more complex and costly.                   |\n",
            "| **Cost of Living**  | More expensive than Pakistan, but affordable for Europe.                              | Very affordable, but this doesn't offset other systemic entrepreneurial challenges.            |\n",
            "| **Networking**      | Tight-knit, international, accessible tech community.                               | Often more siloed, traditional business networks, less international focus.                     |\n",
            "\n",
            "**In conclusion, for a Pakistani CS student in their mid-20s with the specific ambition of becoming a tech entrepreneur, Estonia offers an unparalleled launchpad.** It provides not just an education, but a complete ecosystem – a digital-first mindset, a highly supportive regulatory environment, direct access to a major market, and a proven track record of producing global tech giants. It's an environment designed to foster and scale innovative tech businesses.\n"
          ]
        }
      ],
      "source": [
        "consultant_agent: Agent = Agent(name=\"ConsultantAgent\", # optional (introduced by OAI)\n",
        "                     instructions=\"You are a helpful consultant assistant.\", # system prompt\n",
        "                     model=llm_model) # gemini-2.5 as agent brain - chat completions\n",
        "\n",
        "result: Runner = Runner.run_sync(consultant_agent, \"why should someone in their mid-20s consider relocating to Estonia from Pakistan, if they're a CS student, and wanted to become a tech entrepreneur?\")\n",
        "# although agent.run could've also been used. But since multiple agents were required to be functioning\n",
        "# types of Runners used: syn (run_syn), async(run), run.streamed\n",
        "\n",
        "print(\"\\nCALLING AGENT\\n\")\n",
        "print(result.final_output)"
      ]
    },
    {
      "cell_type": "code",
      "execution_count": 14,
      "metadata": {
        "colab": {
          "base_uri": "https://localhost:8080/"
        },
        "collapsed": true,
        "id": "Z5oKiMPbd7BC",
        "outputId": "67c02954-d05b-41bf-e200-ed01b4542167"
      },
      "outputs": [
        {
          "output_type": "execute_result",
          "data": {
            "text/plain": [
              "RunResult(input=\"why should someone in their mid-20s consider relocating to Estonia from Pakistan, if they're a CS student, and wanted to become a tech entrepreneur?\", new_items=[MessageOutputItem(agent=Agent(name='ConsultantAgent', handoff_description=None, tools=[], mcp_servers=[], mcp_config={}, instructions='You are a helpful consultant assistant.', prompt=None, handoffs=[], model=<agents.models.openai_chatcompletions.OpenAIChatCompletionsModel object at 0x79e84f510310>, model_settings=ModelSettings(temperature=None, top_p=None, frequency_penalty=None, presence_penalty=None, tool_choice=None, parallel_tool_calls=None, truncation=None, max_tokens=None, reasoning=None, metadata=None, store=None, include_usage=None, response_include=None, extra_query=None, extra_body=None, extra_headers=None, extra_args=None), input_guardrails=[], output_guardrails=[], output_type=None, hooks=None, tool_use_behavior='run_llm_again', reset_tool_choice=True), raw_item=ResponseOutputMessage(id='__fake_id__', content=[ResponseOutputText(annotations=[], text='Estonia presents a remarkably compelling case for a mid-20s Pakistani CS student aspiring to be a tech entrepreneur. It offers a unique combination of factors that can significantly accelerate such an individual\\'s journey compared to staying in Pakistan or even moving to many other established tech hubs.\\n\\nHere\\'s a breakdown of the key reasons:\\n\\n### 1. A Thriving Digital & Startup Ecosystem\\n\\n*   **\"e-Estonia\" - The Digital Nation:** Estonia has built a reputation as the most digitally advanced society in the world. Almost all public services are online, and the mindset is inherently digital-first. This creates an environment where digital innovation is not just supported but expected and integrated into daily life.\\n*   **e-Residency:** This is perhaps the *single most unique and powerful tool* for an aspiring entrepreneur. It allows anyone, anywhere, to establish and manage an EU-based company online, digitally sign documents, and conduct business. While you\\'d need physical residency to live and work there, e-Residency perfectly complements an entrepreneurial journey by providing a legitimate EU business vehicle from day one.\\n*   **High Concentration of Unicorns:** Despite its small size, Estonia has the highest number of unicorns (startups valued at over $1 billion) per capita in Europe. Companies like Skype, TransferWise (now Wise), Bolt, Pipedrive, and Playtech originated here. This demonstrates a proven track record of scaling global tech businesses.\\n*   **Vibrant Startup Scene:** The ecosystem is active and well-connected. There are numerous incubators (e.g., Startup Wise Guys, Tehnopol), accelerators, co-working spaces, and a strong network of angel investors and VCs. The community is small enough to be accessible yet large enough to be dynamic.\\n*   **Innovation Culture:** Experimentation and rapid iteration are encouraged. Failure is often seen as a learning opportunity, which is crucial for entrepreneurial growth.\\n\\n### 2. Entrepreneur-Friendly Business Environment\\n\\n*   **Ease of Doing Business:** Estonia consistently ranks high globally for ease of doing business. Setting up a company is quick, simple, and can largely be done online (especially with e-Residency).\\n*   **Simple Tax System:** Estonia has a unique corporate tax system where **reinvested profits are not taxed**. Corporate income tax is only paid on distributed profits (dividends). This is incredibly beneficial for startups, allowing them to retain more capital for growth.\\n*   **Access to EU Market:** As an EU member state, a business registered in Estonia gains access to the vast European single market, opening up immense opportunities for scalability that are harder to achieve from Pakistan.\\n*   **Strong Rule of Law & IP Protection:** A stable political environment, low corruption, and robust legal frameworks provide security for businesses and protect intellectual property, which is vital for tech innovation.\\n\\n### 3. World-Class Education & R&D\\n\\n*   **Quality CS Education:** Universities like the University of Tartu and TalTech (Tallinn University of Technology) offer high-quality Computer Science and IT-related programs, many taught in English. These programs often have strong ties to the industry, providing practical skills and networking opportunities.\\n*   **Focus on Applied Research:** Estonian universities are known for their practical approach and collaboration with the private sector, allowing students to work on real-world projects and potentially spin off their own ventures.\\n*   **English as a Business Language:** While Estonian is the official language, English is widely spoken in the tech community, universities, and among younger generations, making it easy for international students and entrepreneurs to integrate.\\n\\n### 4. Practical & Lifestyle Benefits\\n\\n*   **Startup Visa Program:** Estonia offers a dedicated Startup Visa, making it easier for non-EU founders to relocate if their startup idea is approved by an expert committee. This is a direct pathway for an aspiring entrepreneur.\\n*   **Relatively Lower Cost of Living (Compared to Western Europe):** While more expensive than Pakistan, Tallinn and Tartu are significantly more affordable than major tech hubs like London, Berlin, or Amsterdam, especially when considering accommodation and daily expenses. This can make the initial bootstrapping phase of a startup more manageable.\\n*   **High Quality of Life:** Estonia offers a high quality of life, with safe cities, clean air, beautiful nature, and a good work-life balance.\\n*   **Strategic Location:** Its proximity to the Nordics and other European markets provides easy access for business development and partnerships.\\n\\n### Comparison with Pakistan for a Tech Entrepreneur\\n\\n| Feature             | Estonia (Advantages)                                                                 | Pakistan (Challenges/Differences)                                                               |\\n| :------------------ | :----------------------------------------------------------------------------------- | :--------------------------------------------------------------------------------------------- |\\n| **Digital Ecosystem** | Highly advanced, e-residency, government support for tech, high unicorn density.      | Nascent, growing, but still faces infrastructure and policy hurdles.                           |\\n| **Business Env.**   | Extremely easy, low bureaucracy, no corporate tax on reinvested profits, EU market.   | More bureaucracy, complex tax, limited access to international markets from inception.          |\\n| **Funding**         | Accessible angel, VC network within EU, strong international connections.             | Growing but still limited early-stage funding, mostly local.                                   |\\n| **Education**       | Strong CS programs, practical focus, English-taught, industry integration.            | Good CS programs, but often less direct industry linkage for global tech entrepreneurship.     |\\n| **Visa/Immigration** | Dedicated Startup Visa, student visa leads to residency, clear pathways.             | Fewer dedicated pathways for tech entrepreneurs, often requires significant investment.          |\\n| **Rule of Law/IP**  | Strong and reliable, protects innovation.                                            | Can be challenging, concerns about enforcement and protection.                                 |\\n| **Market Access**   | Direct access to EU single market (500M+ consumers).                               | Primarily domestic market; international expansion more complex and costly.                   |\\n| **Cost of Living**  | More expensive than Pakistan, but affordable for Europe.                              | Very affordable, but this doesn\\'t offset other systemic entrepreneurial challenges.            |\\n| **Networking**      | Tight-knit, international, accessible tech community.                               | Often more siloed, traditional business networks, less international focus.                     |\\n\\n**In conclusion, for a Pakistani CS student in their mid-20s with the specific ambition of becoming a tech entrepreneur, Estonia offers an unparalleled launchpad.** It provides not just an education, but a complete ecosystem – a digital-first mindset, a highly supportive regulatory environment, direct access to a major market, and a proven track record of producing global tech giants. It\\'s an environment designed to foster and scale innovative tech businesses.', type='output_text', logprobs=None)], role='assistant', status='completed', type='message'), type='message_output_item')], raw_responses=[ModelResponse(output=[ResponseOutputMessage(id='__fake_id__', content=[ResponseOutputText(annotations=[], text='Estonia presents a remarkably compelling case for a mid-20s Pakistani CS student aspiring to be a tech entrepreneur. It offers a unique combination of factors that can significantly accelerate such an individual\\'s journey compared to staying in Pakistan or even moving to many other established tech hubs.\\n\\nHere\\'s a breakdown of the key reasons:\\n\\n### 1. A Thriving Digital & Startup Ecosystem\\n\\n*   **\"e-Estonia\" - The Digital Nation:** Estonia has built a reputation as the most digitally advanced society in the world. Almost all public services are online, and the mindset is inherently digital-first. This creates an environment where digital innovation is not just supported but expected and integrated into daily life.\\n*   **e-Residency:** This is perhaps the *single most unique and powerful tool* for an aspiring entrepreneur. It allows anyone, anywhere, to establish and manage an EU-based company online, digitally sign documents, and conduct business. While you\\'d need physical residency to live and work there, e-Residency perfectly complements an entrepreneurial journey by providing a legitimate EU business vehicle from day one.\\n*   **High Concentration of Unicorns:** Despite its small size, Estonia has the highest number of unicorns (startups valued at over $1 billion) per capita in Europe. Companies like Skype, TransferWise (now Wise), Bolt, Pipedrive, and Playtech originated here. This demonstrates a proven track record of scaling global tech businesses.\\n*   **Vibrant Startup Scene:** The ecosystem is active and well-connected. There are numerous incubators (e.g., Startup Wise Guys, Tehnopol), accelerators, co-working spaces, and a strong network of angel investors and VCs. The community is small enough to be accessible yet large enough to be dynamic.\\n*   **Innovation Culture:** Experimentation and rapid iteration are encouraged. Failure is often seen as a learning opportunity, which is crucial for entrepreneurial growth.\\n\\n### 2. Entrepreneur-Friendly Business Environment\\n\\n*   **Ease of Doing Business:** Estonia consistently ranks high globally for ease of doing business. Setting up a company is quick, simple, and can largely be done online (especially with e-Residency).\\n*   **Simple Tax System:** Estonia has a unique corporate tax system where **reinvested profits are not taxed**. Corporate income tax is only paid on distributed profits (dividends). This is incredibly beneficial for startups, allowing them to retain more capital for growth.\\n*   **Access to EU Market:** As an EU member state, a business registered in Estonia gains access to the vast European single market, opening up immense opportunities for scalability that are harder to achieve from Pakistan.\\n*   **Strong Rule of Law & IP Protection:** A stable political environment, low corruption, and robust legal frameworks provide security for businesses and protect intellectual property, which is vital for tech innovation.\\n\\n### 3. World-Class Education & R&D\\n\\n*   **Quality CS Education:** Universities like the University of Tartu and TalTech (Tallinn University of Technology) offer high-quality Computer Science and IT-related programs, many taught in English. These programs often have strong ties to the industry, providing practical skills and networking opportunities.\\n*   **Focus on Applied Research:** Estonian universities are known for their practical approach and collaboration with the private sector, allowing students to work on real-world projects and potentially spin off their own ventures.\\n*   **English as a Business Language:** While Estonian is the official language, English is widely spoken in the tech community, universities, and among younger generations, making it easy for international students and entrepreneurs to integrate.\\n\\n### 4. Practical & Lifestyle Benefits\\n\\n*   **Startup Visa Program:** Estonia offers a dedicated Startup Visa, making it easier for non-EU founders to relocate if their startup idea is approved by an expert committee. This is a direct pathway for an aspiring entrepreneur.\\n*   **Relatively Lower Cost of Living (Compared to Western Europe):** While more expensive than Pakistan, Tallinn and Tartu are significantly more affordable than major tech hubs like London, Berlin, or Amsterdam, especially when considering accommodation and daily expenses. This can make the initial bootstrapping phase of a startup more manageable.\\n*   **High Quality of Life:** Estonia offers a high quality of life, with safe cities, clean air, beautiful nature, and a good work-life balance.\\n*   **Strategic Location:** Its proximity to the Nordics and other European markets provides easy access for business development and partnerships.\\n\\n### Comparison with Pakistan for a Tech Entrepreneur\\n\\n| Feature             | Estonia (Advantages)                                                                 | Pakistan (Challenges/Differences)                                                               |\\n| :------------------ | :----------------------------------------------------------------------------------- | :--------------------------------------------------------------------------------------------- |\\n| **Digital Ecosystem** | Highly advanced, e-residency, government support for tech, high unicorn density.      | Nascent, growing, but still faces infrastructure and policy hurdles.                           |\\n| **Business Env.**   | Extremely easy, low bureaucracy, no corporate tax on reinvested profits, EU market.   | More bureaucracy, complex tax, limited access to international markets from inception.          |\\n| **Funding**         | Accessible angel, VC network within EU, strong international connections.             | Growing but still limited early-stage funding, mostly local.                                   |\\n| **Education**       | Strong CS programs, practical focus, English-taught, industry integration.            | Good CS programs, but often less direct industry linkage for global tech entrepreneurship.     |\\n| **Visa/Immigration** | Dedicated Startup Visa, student visa leads to residency, clear pathways.             | Fewer dedicated pathways for tech entrepreneurs, often requires significant investment.          |\\n| **Rule of Law/IP**  | Strong and reliable, protects innovation.                                            | Can be challenging, concerns about enforcement and protection.                                 |\\n| **Market Access**   | Direct access to EU single market (500M+ consumers).                               | Primarily domestic market; international expansion more complex and costly.                   |\\n| **Cost of Living**  | More expensive than Pakistan, but affordable for Europe.                              | Very affordable, but this doesn\\'t offset other systemic entrepreneurial challenges.            |\\n| **Networking**      | Tight-knit, international, accessible tech community.                               | Often more siloed, traditional business networks, less international focus.                     |\\n\\n**In conclusion, for a Pakistani CS student in their mid-20s with the specific ambition of becoming a tech entrepreneur, Estonia offers an unparalleled launchpad.** It provides not just an education, but a complete ecosystem – a digital-first mindset, a highly supportive regulatory environment, direct access to a major market, and a proven track record of producing global tech giants. It\\'s an environment designed to foster and scale innovative tech businesses.', type='output_text', logprobs=None)], role='assistant', status='completed', type='message')], usage=Usage(requests=1, input_tokens=42, input_tokens_details=InputTokensDetails(cached_tokens=0), output_tokens=1410, output_tokens_details=OutputTokensDetails(reasoning_tokens=0), total_tokens=2634), response_id=None)], final_output='Estonia presents a remarkably compelling case for a mid-20s Pakistani CS student aspiring to be a tech entrepreneur. It offers a unique combination of factors that can significantly accelerate such an individual\\'s journey compared to staying in Pakistan or even moving to many other established tech hubs.\\n\\nHere\\'s a breakdown of the key reasons:\\n\\n### 1. A Thriving Digital & Startup Ecosystem\\n\\n*   **\"e-Estonia\" - The Digital Nation:** Estonia has built a reputation as the most digitally advanced society in the world. Almost all public services are online, and the mindset is inherently digital-first. This creates an environment where digital innovation is not just supported but expected and integrated into daily life.\\n*   **e-Residency:** This is perhaps the *single most unique and powerful tool* for an aspiring entrepreneur. It allows anyone, anywhere, to establish and manage an EU-based company online, digitally sign documents, and conduct business. While you\\'d need physical residency to live and work there, e-Residency perfectly complements an entrepreneurial journey by providing a legitimate EU business vehicle from day one.\\n*   **High Concentration of Unicorns:** Despite its small size, Estonia has the highest number of unicorns (startups valued at over $1 billion) per capita in Europe. Companies like Skype, TransferWise (now Wise), Bolt, Pipedrive, and Playtech originated here. This demonstrates a proven track record of scaling global tech businesses.\\n*   **Vibrant Startup Scene:** The ecosystem is active and well-connected. There are numerous incubators (e.g., Startup Wise Guys, Tehnopol), accelerators, co-working spaces, and a strong network of angel investors and VCs. The community is small enough to be accessible yet large enough to be dynamic.\\n*   **Innovation Culture:** Experimentation and rapid iteration are encouraged. Failure is often seen as a learning opportunity, which is crucial for entrepreneurial growth.\\n\\n### 2. Entrepreneur-Friendly Business Environment\\n\\n*   **Ease of Doing Business:** Estonia consistently ranks high globally for ease of doing business. Setting up a company is quick, simple, and can largely be done online (especially with e-Residency).\\n*   **Simple Tax System:** Estonia has a unique corporate tax system where **reinvested profits are not taxed**. Corporate income tax is only paid on distributed profits (dividends). This is incredibly beneficial for startups, allowing them to retain more capital for growth.\\n*   **Access to EU Market:** As an EU member state, a business registered in Estonia gains access to the vast European single market, opening up immense opportunities for scalability that are harder to achieve from Pakistan.\\n*   **Strong Rule of Law & IP Protection:** A stable political environment, low corruption, and robust legal frameworks provide security for businesses and protect intellectual property, which is vital for tech innovation.\\n\\n### 3. World-Class Education & R&D\\n\\n*   **Quality CS Education:** Universities like the University of Tartu and TalTech (Tallinn University of Technology) offer high-quality Computer Science and IT-related programs, many taught in English. These programs often have strong ties to the industry, providing practical skills and networking opportunities.\\n*   **Focus on Applied Research:** Estonian universities are known for their practical approach and collaboration with the private sector, allowing students to work on real-world projects and potentially spin off their own ventures.\\n*   **English as a Business Language:** While Estonian is the official language, English is widely spoken in the tech community, universities, and among younger generations, making it easy for international students and entrepreneurs to integrate.\\n\\n### 4. Practical & Lifestyle Benefits\\n\\n*   **Startup Visa Program:** Estonia offers a dedicated Startup Visa, making it easier for non-EU founders to relocate if their startup idea is approved by an expert committee. This is a direct pathway for an aspiring entrepreneur.\\n*   **Relatively Lower Cost of Living (Compared to Western Europe):** While more expensive than Pakistan, Tallinn and Tartu are significantly more affordable than major tech hubs like London, Berlin, or Amsterdam, especially when considering accommodation and daily expenses. This can make the initial bootstrapping phase of a startup more manageable.\\n*   **High Quality of Life:** Estonia offers a high quality of life, with safe cities, clean air, beautiful nature, and a good work-life balance.\\n*   **Strategic Location:** Its proximity to the Nordics and other European markets provides easy access for business development and partnerships.\\n\\n### Comparison with Pakistan for a Tech Entrepreneur\\n\\n| Feature             | Estonia (Advantages)                                                                 | Pakistan (Challenges/Differences)                                                               |\\n| :------------------ | :----------------------------------------------------------------------------------- | :--------------------------------------------------------------------------------------------- |\\n| **Digital Ecosystem** | Highly advanced, e-residency, government support for tech, high unicorn density.      | Nascent, growing, but still faces infrastructure and policy hurdles.                           |\\n| **Business Env.**   | Extremely easy, low bureaucracy, no corporate tax on reinvested profits, EU market.   | More bureaucracy, complex tax, limited access to international markets from inception.          |\\n| **Funding**         | Accessible angel, VC network within EU, strong international connections.             | Growing but still limited early-stage funding, mostly local.                                   |\\n| **Education**       | Strong CS programs, practical focus, English-taught, industry integration.            | Good CS programs, but often less direct industry linkage for global tech entrepreneurship.     |\\n| **Visa/Immigration** | Dedicated Startup Visa, student visa leads to residency, clear pathways.             | Fewer dedicated pathways for tech entrepreneurs, often requires significant investment.          |\\n| **Rule of Law/IP**  | Strong and reliable, protects innovation.                                            | Can be challenging, concerns about enforcement and protection.                                 |\\n| **Market Access**   | Direct access to EU single market (500M+ consumers).                               | Primarily domestic market; international expansion more complex and costly.                   |\\n| **Cost of Living**  | More expensive than Pakistan, but affordable for Europe.                              | Very affordable, but this doesn\\'t offset other systemic entrepreneurial challenges.            |\\n| **Networking**      | Tight-knit, international, accessible tech community.                               | Often more siloed, traditional business networks, less international focus.                     |\\n\\n**In conclusion, for a Pakistani CS student in their mid-20s with the specific ambition of becoming a tech entrepreneur, Estonia offers an unparalleled launchpad.** It provides not just an education, but a complete ecosystem – a digital-first mindset, a highly supportive regulatory environment, direct access to a major market, and a proven track record of producing global tech giants. It\\'s an environment designed to foster and scale innovative tech businesses.', input_guardrail_results=[], output_guardrail_results=[], context_wrapper=RunContextWrapper(context=None, usage=Usage(requests=1, input_tokens=42, input_tokens_details=InputTokensDetails(cached_tokens=0), output_tokens=1410, output_tokens_details=OutputTokensDetails(reasoning_tokens=0), total_tokens=2634)), _last_agent=Agent(name='ConsultantAgent', handoff_description=None, tools=[], mcp_servers=[], mcp_config={}, instructions='You are a helpful consultant assistant.', prompt=None, handoffs=[], model=<agents.models.openai_chatcompletions.OpenAIChatCompletionsModel object at 0x79e84f510310>, model_settings=ModelSettings(temperature=None, top_p=None, frequency_penalty=None, presence_penalty=None, tool_choice=None, parallel_tool_calls=None, truncation=None, max_tokens=None, reasoning=None, metadata=None, store=None, include_usage=None, response_include=None, extra_query=None, extra_body=None, extra_headers=None, extra_args=None), input_guardrails=[], output_guardrails=[], output_type=None, hooks=None, tool_use_behavior='run_llm_again', reset_tool_choice=True))"
            ]
          },
          "metadata": {},
          "execution_count": 14
        }
      ],
      "source": [
        "result"
      ]
    },
    {
      "cell_type": "markdown",
      "metadata": {
        "id": "1m8xnCs4KKG5"
      },
      "source": [
        "# 💬 Step 3: Running Agent Asynchronously"
      ]
    },
    {
      "cell_type": "code",
      "execution_count": 15,
      "metadata": {
        "colab": {
          "base_uri": "https://localhost:8080/"
        },
        "collapsed": true,
        "id": "jZA-iSR9KMJ9",
        "outputId": "3a742357-5fec-4795-fc2c-ffff2fb71d0a"
      },
      "outputs": [
        {
          "output_type": "stream",
          "name": "stdout",
          "text": [
            "Studying and eventually relocating to Australia is a dream for many, offering world-class education, a high quality of life, diverse culture, and potential pathways to permanent residency. However, it's a significant undertaking that requires careful planning and research.\n",
            "\n",
            "Here's a comprehensive overview to help you understand the process:\n",
            "\n",
            "---\n",
            "\n",
            "## Part 1: Studying in Australia\n",
            "\n",
            "### Why Study in Australia?\n",
            "\n",
            "1.  **World-Class Education:** Australian universities consistently rank among the top globally, known for research, innovation, and practical learning.\n",
            "2.  **Diverse Study Options:** A wide range of courses are available from vocational (TAFE) to Bachelor's, Master's, and PhD degrees across various fields.\n",
            "3.  **Post-Study Work Opportunities:** The Temporary Graduate visa (subclass 485) allows eligible international students to stay and work in Australia for a period after graduation, gaining valuable experience.\n",
            "4.  **Multicultural Environment:** Australia is a melting pot of cultures, offering a welcoming and diverse experience for international students.\n",
            "5.  **High Quality of Life:** Safe cities, excellent healthcare, beautiful natural landscapes, and a vibrant outdoor lifestyle.\n",
            "6.  **Pathway to Permanent Residency:** For many, studying in Australia is the first step towards skilled migration and permanent residency.\n",
            "\n",
            "### Key Steps to Study in Australia:\n",
            "\n",
            "1.  **Research Courses & Institutions:**\n",
            "    *   Identify your field of interest and career goals.\n",
            "    *   Research universities and vocational colleges (TAFE) that offer your desired courses.\n",
            "    *   Check their rankings, facilities, faculty, and student support services.\n",
            "    *   Popular cities for students include Melbourne, Sydney, Brisbane, Perth, Adelaide, and Canberra.\n",
            "\n",
            "2.  **Check Admission Requirements:**\n",
            "    *   **Academic:** Varies by course and institution (e.g., high school qualifications, previous university degrees, specific subject prerequisites).\n",
            "    *   **English Language Proficiency:** IELTS, TOEFL, PTE Academic, or Cambridge English Advanced (CAE) scores are almost always required.\n",
            "    *   **Other:** Portfolios (for arts/design), interviews, or work experience might be needed.\n",
            "\n",
            "3.  **Prepare Your Application:**\n",
            "    *   Gather all required documents (academic transcripts, certificates, English test results, passport copies, statement of purpose/personal statement, letters of recommendation).\n",
            "    *   Apply directly to the institution or through a registered education agent.\n",
            "\n",
            "4.  **Receive Offer Letter & Accept:**\n",
            "    *   If your application is successful, you'll receive an offer letter.\n",
            "    *   Read it carefully, noting tuition fees, course duration, and conditions.\n",
            "    *   Accept the offer and pay your initial tuition deposit (usually part of the first semester's fees).\n",
            "    *   The institution will then issue an Electronic Confirmation of Enrolment (eCoE). This is crucial for your visa application.\n",
            "\n",
            "5.  **Apply for a Student Visa (Subclass 500):**\n",
            "    *   **Genuine Temporary Entrant (GTE) Requirement:** You must satisfy the Department of Home Affairs that you genuinely intend to stay in Australia temporarily for study and not for other reasons. This often involves writing a statement and providing supporting evidence.\n",
            "    *   **Financial Capacity:** Prove you have sufficient funds to cover your tuition fees, living expenses, and travel costs for the duration of your stay. The government sets a minimum living cost amount (e.g., around AUD 24,500 per year for a single student, plus tuition).\n",
            "    *   **Health Insurance:** You must obtain Overseas Student Health Cover (OSHC) for the entire duration of your stay. This is mandatory.\n",
            "    *   **Health and Character Requirements:** You may need to undergo a medical examination and police checks.\n",
            "    *   **Age Requirement:** Generally 6 years or older.\n",
            "    *   **Apply Online:** Submit your application through the Department of Home Affairs (DHA) ImmiAccount portal.\n",
            "\n",
            "6.  **Pre-Departure Planning:**\n",
            "    *   Arrange accommodation (on-campus, shared housing, homestay).\n",
            "    *   Book flights.\n",
            "    *   Inform your university of your arrival details.\n",
            "    *   Pack essentials, including important documents.\n",
            "    *   Set up an Australian bank account (you can often do this remotely before arriving).\n",
            "\n",
            "7.  **Arrive in Australia:**\n",
            "    *   Attend your university's orientation program.\n",
            "    *   Familiarise yourself with your new environment.\n",
            "    *   Register for classes.\n",
            "\n",
            "### Costs of Studying in Australia:\n",
            "\n",
            "*   **Tuition Fees (per year, indicative):**\n",
            "    *   **Vocational Education & Training (VET):** AUD 5,000 - AUD 20,000\n",
            "    *   **Bachelor's Degree:** AUD 20,000 - AUD 45,000\n",
            "    *   **Master's/PhD Degree:** AUD 22,000 - AUD 50,000+\n",
            "*   **Living Costs (per year, indicative):** AUD 24,500 - AUD 35,000 (minimum set by DHA, but realistically higher in major cities). This includes accommodation, food, transport, utilities, and personal expenses.\n",
            "*   **Overseas Student Health Cover (OSHC):** Around AUD 500 - AUD 700 per year for a single person.\n",
            "*   **Visa Application Fee:** Around AUD 710.\n",
            "\n",
            "### Work Rights for Students:\n",
            "\n",
            "*   **During Semester:** International students on a subclass 500 visa are generally allowed to work up to **40 hours per fortnight** (two-week period) during their course.\n",
            "*   **During Scheduled Course Breaks:** You can work unlimited hours.\n",
            "*   This income can help with living costs but is unlikely to cover all expenses.\n",
            "\n",
            "---\n",
            "\n",
            "## Part 2: Relocating to Australia (Beyond Study)\n",
            "\n",
            "For many international students, the goal is to transition from a student visa to a more permanent residency pathway.\n",
            "\n",
            "### Post-Study Work Options & Permanent Residency Pathways:\n",
            "\n",
            "1.  **Temporary Graduate Visa (Subclass 485):**\n",
            "    *   This is the most common pathway after graduation.\n",
            "    *   **Graduate Work Stream:** For graduates with an eligible qualification from the Skilled Occupation List. Usually granted for 18-24 months.\n",
            "    *   **Post-Study Work Stream:** For graduates of Bachelor's, Master's, or PhD degrees from an Australian institution, regardless of occupation. Duration varies based on qualification (2-4 years, with potential extensions for certain qualifications or regional study).\n",
            "    *   This visa allows you to live, study, and work in Australia temporarily, gaining work experience, which is crucial for future PR applications.\n",
            "\n",
            "2.  **Skilled Migration Visas:**\n",
            "    *   **Skilled Independent Visa (Subclass 189):** A permanent visa for invited skilled workers with an occupation on the Skilled Occupation List. Requires an Expression of Interest (EOI) and high points score (age, English, skilled employment, education, etc.). No state sponsorship required.\n",
            "    *   **Skilled Nominated Visa (Subclass 190):** A permanent visa for invited skilled workers nominated by an Australian state or territory government. Requires an EOI and points, and commitment to live in the nominating state.\n",
            "    *   **Skilled Work Regional (Provisional) Visa (Subclass 491):** A provisional visa that requires state/territory or family sponsorship to live and work in regional Australia for 5 years, with a pathway to permanent residency after 3 years (Skilled Regional (Permanent) visa subclass 191). This offers more points and often more accessible occupation lists.\n",
            "\n",
            "3.  **Employer Sponsored Visas:**\n",
            "    *   **Temporary Skill Shortage Visa (Subclass 482):** Allows employers to sponsor skilled workers for up to 2-4 years. Can lead to PR for some streams after 3 years.\n",
            "    *   **Employer Nomination Scheme (ENS) Visa (Subclass 186):** A permanent visa nominated by an employer. Requires relevant skills, qualifications, and often English proficiency.\n",
            "\n",
            "4.  **Other Visas:** Partner visas, business visas, etc.\n",
            "\n",
            "**Key for PR:** Gaining relevant work experience in a skilled occupation, improving your English language skills (e.g., getting a high score in PTE or IELTS), and potentially studying in regional areas (for extra points and different visa options) can significantly boost your chances.\n",
            "\n",
            "### Job Market & Finding Work:\n",
            "\n",
            "*   **Networking:** Crucial in Australia. Attend industry events, career fairs, and connect on LinkedIn.\n",
            "*   **Resume/CV & Cover Letter:** Tailor them to Australian standards and for each specific job application. Highlight transferable skills and Australian work experience (if any).\n",
            "*   **Job Search Websites:** Seek.com.au, Indeed.com, LinkedIn Jobs, Jora.\n",
            "*   **Recruitment Agencies:** Many specialise in specific industries.\n",
            "*   **Industry-Specific Skills Shortages:** Keep an eye on the Skilled Occupation Lists and state nomination lists for in-demand professions (e.g., healthcare, IT, engineering, education, trades).\n",
            "\n",
            "### Cost of Living in Australia (Beyond Study):\n",
            "\n",
            "While the student living cost guideline is AUD 24,500/year, real-world costs are often higher, especially in major cities like Sydney and Melbourne.\n",
            "\n",
            "*   **Accommodation (per week, indicative):**\n",
            "    *   **Shared House/Apartment:** AUD 180 - AUD 350+ (outside city centre)\n",
            "    *   **Studio/1-bedroom Apartment:** AUD 350 - AUD 650+ (very high in city centres)\n",
            "*   **Food (per week):** AUD 80 - AUD 150 (if cooking at home)\n",
            "*   **Utilities (per month):** AUD 150 - AUD 300 (electricity, gas, internet)\n",
            "*   **Transport (per week):** AUD 30 - AUD 60 (public transport; vary by city)\n",
            "*   **Mobile Phone (per month):** AUD 20 - AUD 50\n",
            "*   **Healthcare:**\n",
            "    *   **OSHC (Student):** Mandatory.\n",
            "    *   **Medicare (Permanent Resident):** Australia's public healthcare system. If you become a PR, you'll be eligible. Private health insurance is also common.\n",
            "*   **Other Expenses:** Entertainment, clothing, personal care.\n",
            "\n",
            "**Budget Realistically:** A comfortable single person in a major city might need AUD 40,000 - AUD 60,000 per year *after* tuition, depending on lifestyle.\n",
            "\n",
            "### Banking & Finance:\n",
            "\n",
            "*   Open an Australian bank account (Commonwealth Bank, Westpac, ANZ, NAB are major ones).\n",
            "*   Get a Tax File Number (TFN) from the Australian Taxation Office (ATO) once you arrive, as you'll need it for work.\n",
            "*   Understand superannuation (retirement fund) if you're working.\n",
            "\n",
            "### Healthcare:\n",
            "\n",
            "*   As an international student, you **must** have OSHC. This covers most medical and hospital care.\n",
            "*   Once you gain PR, you become eligible for Medicare, Australia's universal healthcare scheme, which subsidises doctor visits and public hospital treatment. You might still consider private health insurance for ambulance cover, dental, optical, and private hospital choice.\n",
            "\n",
            "### Culture & Lifestyle:\n",
            "\n",
            "*   **Multiculturalism:** Australia is incredibly diverse, with communities from all over the world.\n",
            "*   **Outdoor Lifestyle:** Strong emphasis on sports, beaches, parks, and outdoor activities.\n",
            "*   **Casual & Friendly:** Australians are generally laid-back and friendly.\n",
            "*   **Work-Life Balance:** Generally good, with standard working hours and emphasis on leisure.\n",
            "*   **Safety:** Australia is considered a very safe country.\n",
            "\n",
            "---\n",
            "\n",
            "### Important Considerations and Tips:\n",
            "\n",
            "*   **Start Early:** The entire process, especially for visas, can take many months.\n",
            "*   **Visa Conditions:** Adhere strictly to your visa conditions (e.g., work hours, course enrolment, attendance). Breaching them can lead to visa cancellation and impact future applications.\n",
            "*   **Financial Planning:** Ensure you have sufficient funds for your entire stay, as living costs can be higher than expected.\n",
            "*   **Research Thoroughly:** Immigration policies, fees, and requirements change. Always refer to the official Department of Home Affairs (DHA) website and university websites for the most up-to-date and accurate information.\n",
            "*   **Seek Professional Advice:** Consider consulting a registered migration agent (for visa advice) or an education agent (for study applications) if you feel overwhelmed.\n",
            "*   **Learn About Australian Laws and Customs:** Familiarise yourself with local laws, particularly around employment, housing, and social norms.\n",
            "*   **Be Open-Minded:** Embrace the new culture, challenges, and opportunities.\n",
            "*   **Build a Support Network:** Connect with other international students, join clubs, and make local friends.\n",
            "\n",
            "Relocating to Australia is an exciting journey with immense potential, but it requires diligent planning and adaptability. Good luck!\n"
          ]
        }
      ],
      "source": [
        "import asyncio\n",
        "\n",
        "async def main():\n",
        "\n",
        "    result: Runner = await Runner.run(consultant_agent, \"Tell me about studying and relocating to Australia.\")\n",
        "\n",
        "    print(result.final_output)\n",
        "\n",
        "\n",
        "asyncio.run(main())"
      ]
    },
    {
      "cell_type": "markdown",
      "metadata": {
        "id": "7RKgPtw2XlJs"
      },
      "source": [
        "## Example 1:\n",
        "### 👨‍🍳🍽️ Recipe Bot"
      ]
    },
    {
      "cell_type": "code",
      "execution_count": 16,
      "metadata": {
        "id": "0LzWsFBvapjz"
      },
      "outputs": [],
      "source": [
        "set_tracing_disabled(disabled=True)\n",
        "\n",
        "# Client Setup for Connecting to Gemini\n",
        "external_client:AsyncOpenAI = AsyncOpenAI(\n",
        "    api_key=gemini_api_key,\n",
        "    base_url=\"https://generativelanguage.googleapis.com/v1beta/openai/\",\n",
        ")\n",
        "\n",
        "#Initialize model\n",
        "model:OpenAIChatCompletionsModel = OpenAIChatCompletionsModel(\n",
        "    model=\"gemini-2.5-flash\",\n",
        "    openai_client=external_client\n",
        ")\n",
        "\n",
        "def main():\n",
        "  # Create the Recipe Agent\n",
        "  agent = Agent(\n",
        "      name=\"RecipeBot\",\n",
        "      instructions=(\n",
        "          \"\"\"You are a helpful recipe assistant. A user will give you a few ingredients\n",
        "          they have at home, and you will suggest one simple and quick recipe using only those items.\n",
        "          Keep it short, step-by-step, and easy for beginners to cook/ make.\"\"\"\n",
        "      ),\n",
        "      model=model\n",
        "  )\n",
        "\n",
        "  print(\"\\n🍳 What can I cook/ make today?\\n\")\n",
        "  ingredients = \"milk, water, sugar, bananas\"\n",
        "  result:Runner = Runner.run_sync(agent, f\"I have these at home: {ingredients}. What can I cook or make?\")\n",
        "\n",
        "  print(result.final_output)"
      ]
    },
    {
      "cell_type": "code",
      "execution_count": 17,
      "metadata": {
        "colab": {
          "base_uri": "https://localhost:8080/"
        },
        "id": "DyfXjUXsawYr",
        "outputId": "c275978c-2c66-498d-d177-747f867b6dc6"
      },
      "outputs": [
        {
          "output_type": "stream",
          "name": "stdout",
          "text": [
            "\n",
            "🍳 What can I cook/ make today?\n",
            "\n",
            "Here's a quick and easy recipe for a **Banana Milkshake**:\n",
            "\n",
            "**Ingredients:**\n",
            "*   1-2 ripe bananas\n",
            "*   1 cup milk\n",
            "*   1-2 teaspoons sugar (or to taste)\n",
            "*   1/4 cup water (optional, to adjust consistency)\n",
            "\n",
            "**Instructions:**\n",
            "1.  **Prepare Bananas:** Peel the bananas and break them into a few smaller pieces.\n",
            "2.  **Combine Ingredients:** Put the banana pieces, milk, and sugar into a blender.\n",
            "3.  **Blend:** Blend until the mixture is smooth and creamy. If it's too thick, add a splash of water and blend again.\n",
            "4.  **Serve:** Pour into a glass and enjoy immediately!\n"
          ]
        }
      ],
      "source": [
        "if __name__ == \"__main__\":\n",
        "    main()"
      ]
    },
    {
      "cell_type": "code",
      "source": [],
      "metadata": {
        "id": "XAxyRUiJk9h5"
      },
      "execution_count": null,
      "outputs": []
    }
  ],
  "metadata": {
    "colab": {
      "provenance": []
    },
    "kernelspec": {
      "display_name": "Python 3",
      "name": "python3"
    },
    "language_info": {
      "name": "python"
    }
  },
  "nbformat": 4,
  "nbformat_minor": 0
}
{
  "nbformat": 4,
  "nbformat_minor": 0,
  "metadata": {
    "colab": {
      "provenance": []
    },
    "kernelspec": {
      "name": "python3",
      "display_name": "Python 3"
    },
    "language_info": {
      "name": "python"
    }
  },
  "cells": [
    {
      "cell_type": "markdown",
      "source": [
        "### Install openai-agents SDK"
      ],
      "metadata": {
        "id": "PdKwzEluDBN7"
      }
    },
    {
      "cell_type": "code",
      "source": [
        "!pip install -Uq openai-agents"
      ],
      "metadata": {
        "id": "3QdkOviEB2ay",
        "colab": {
          "base_uri": "https://localhost:8080/"
        },
        "outputId": "9ef3484c-2a1b-4e85-b88b-ca65d8464277"
      },
      "execution_count": 1,
      "outputs": [
        {
          "output_type": "stream",
          "name": "stdout",
          "text": [
            "\u001b[2K     \u001b[90m━━━━━━━━━━━━━━━━━━━━━━━━━━━━━━━━━━━━━━━━\u001b[0m \u001b[32m61.0/61.0 kB\u001b[0m \u001b[31m2.0 MB/s\u001b[0m eta \u001b[36m0:00:00\u001b[0m\n",
            "\u001b[2K   \u001b[90m━━━━━━━━━━━━━━━━━━━━━━━━━━━━━━━━━━━━━━━━\u001b[0m \u001b[32m161.4/161.4 kB\u001b[0m \u001b[31m5.7 MB/s\u001b[0m eta \u001b[36m0:00:00\u001b[0m\n",
            "\u001b[2K   \u001b[90m━━━━━━━━━━━━━━━━━━━━━━━━━━━━━━━━━━━━━━━━\u001b[0m \u001b[32m132.5/132.5 kB\u001b[0m \u001b[31m13.7 MB/s\u001b[0m eta \u001b[36m0:00:00\u001b[0m\n",
            "\u001b[2K   \u001b[90m━━━━━━━━━━━━━━━━━━━━━━━━━━━━━━━━━━━━━━━━\u001b[0m \u001b[32m158.5/158.5 kB\u001b[0m \u001b[31m16.0 MB/s\u001b[0m eta \u001b[36m0:00:00\u001b[0m\n",
            "\u001b[2K   \u001b[90m━━━━━━━━━━━━━━━━━━━━━━━━━━━━━━━━━━━━━━━━\u001b[0m \u001b[32m45.2/45.2 kB\u001b[0m \u001b[31m5.3 MB/s\u001b[0m eta \u001b[36m0:00:00\u001b[0m\n",
            "\u001b[?25h"
          ]
        }
      ]
    },
    {
      "cell_type": "markdown",
      "source": [
        "### Make your Jupyter Notebook capable of running asynchronous functions."
      ],
      "metadata": {
        "id": "7yD91lz4DIAx"
      }
    },
    {
      "cell_type": "code",
      "source": [
        "import nest_asyncio\n",
        "nest_asyncio.apply()"
      ],
      "metadata": {
        "id": "7A5YLi3HCfBV"
      },
      "execution_count": 2,
      "outputs": []
    },
    {
      "cell_type": "markdown",
      "source": [
        "### Get your LLM API Key"
      ],
      "metadata": {
        "id": "mJoDmfdcUm81"
      }
    },
    {
      "cell_type": "code",
      "source": [
        "from google.colab import userdata\n",
        "gemini_api_key = userdata.get(\"GOOGLE_API_KEY\")"
      ],
      "metadata": {
        "id": "dLjHL03bT8_D"
      },
      "execution_count": 3,
      "outputs": []
    },
    {
      "cell_type": "markdown",
      "source": [
        "## How to configure LLM Providers at different levels (Global, Run and Agent)?\n",
        "\n",
        "Agents SDK is setup to use OpenAI as default providers. When using other providers you can setup at different levels:\n",
        "1. Agent Level\n",
        "2. RUN LEVEL\n",
        "3. Global Level\n",
        "\n",
        "We will always your Agent Level Configuration so each agent can use the LLM best fit for it."
      ],
      "metadata": {
        "id": "j2dv85_EUwVT"
      }
    },
    {
      "cell_type": "markdown",
      "source": [
        "### 1. AGENT LEVEL"
      ],
      "metadata": {
        "id": "r6mLXIwYTxwK"
      }
    },
    {
      "cell_type": "code",
      "source": [
        "import asyncio\n",
        "from openai import AsyncOpenAI\n",
        "from agents import Agent, OpenAIChatCompletionsModel, Runner\n",
        "\n",
        "\n",
        "#Reference: https://ai.google.dev/gemini-api/docs/openai\n",
        "client = AsyncOpenAI(\n",
        "    api_key=gemini_api_key,\n",
        "    base_url=\"https://generativelanguage.googleapis.com/v1beta/openai/\",\n",
        ")\n",
        "\n",
        "async def main():\n",
        "    # This agent will use the custom LLM provider\n",
        "    agent = Agent(\n",
        "        name=\"Assistant\",\n",
        "        instructions=\"You only respond in urdu.\",\n",
        "        model=OpenAIChatCompletionsModel(model=\"gemini-2.5-flash\", openai_client=client),\n",
        "    )\n",
        "\n",
        "    result = await Runner.run(\n",
        "        agent,\n",
        "        \"I am learning Agentic AI with Panaversity Community\",\n",
        "    )\n",
        "    print(result.final_output)\n",
        "\n",
        "\n",
        "if __name__ == \"__main__\":\n",
        "    asyncio.run(main())"
      ],
      "metadata": {
        "colab": {
          "base_uri": "https://localhost:8080/"
        },
        "id": "dEkPY49XTwbP",
        "outputId": "e9682af8-36f2-4f1c-f0e6-54b1153d66e4"
      },
      "execution_count": 4,
      "outputs": [
        {
          "output_type": "stream",
          "name": "stdout",
          "text": [
            "بہت خوب! یہ ایک بہت دلچسپ اور تیزی سے ابھرتا ہوا شعبہ ہے۔\n"
          ]
        }
      ]
    },
    {
      "cell_type": "markdown",
      "source": [
        "### 2. RUN LEVEL"
      ],
      "metadata": {
        "id": "Wb5cWUWAURHe"
      }
    },
    {
      "cell_type": "code",
      "source": [
        "from agents import Agent, Runner, AsyncOpenAI, OpenAIChatCompletionsModel\n",
        "from agents.run import RunConfig\n",
        "\n",
        "#Reference: https://ai.google.dev/gemini-api/docs/openai\n",
        "external_client = AsyncOpenAI(\n",
        "    api_key=gemini_api_key,\n",
        "    base_url=\"https://generativelanguage.googleapis.com/v1beta/openai/\",\n",
        ")\n",
        "\n",
        "model = OpenAIChatCompletionsModel(\n",
        "    model=\"gemini-2.5-flash\",\n",
        "    openai_client=external_client\n",
        ")\n",
        "\n",
        "config = RunConfig(\n",
        "    model=model,\n",
        "    model_provider=external_client,\n",
        "    tracing_disabled=True\n",
        ")\n",
        "\n",
        "agent: Agent = Agent(name=\"Assistant\", instructions=\"You are a helpful assistant\")\n",
        "\n",
        "result = Runner.run_sync(agent, \"tell me something about living in Malaysia as an international student, and then transferring to Australia\", run_config=config)\n",
        "\n",
        "print(result.final_output)"
      ],
      "metadata": {
        "colab": {
          "base_uri": "https://localhost:8080/"
        },
        "id": "8vUgBE2jUPi7",
        "outputId": "23db00fb-76f8-4833-cf94-a1c7371f1d17"
      },
      "execution_count": 5,
      "outputs": [
        {
          "output_type": "stream",
          "name": "stdout",
          "text": [
            "Living as an international student in Malaysia and then considering a transfer to Australia is a journey many students contemplate. Both countries offer unique experiences, and understanding the nuances can help you make informed decisions.\n",
            "\n",
            "---\n",
            "\n",
            "## Part 1: Living in Malaysia as an International Student\n",
            "\n",
            "Malaysia has emerged as a popular destination for international students, primarily due to its affordability, quality education, and multicultural environment.\n",
            "\n",
            "### Pros of Studying in Malaysia:\n",
            "\n",
            "1.  **Cost-Effective Education:** Tuition fees in Malaysia are significantly lower compared to Western countries like the UK, US, Canada, or Australia. The cost of living (accommodation, food, transport) is also much more affordable.\n",
            "2.  **Multicultural Environment:** Malaysia is a melting pot of Malay, Chinese, Indian, and indigenous cultures, along with a significant expatriate community. This provides a rich and diverse social experience and exposure to various traditions and languages.\n",
            "3.  **English as a Medium of Instruction:** English is widely used in higher education institutions, especially in private colleges and universities, making it easier for international students to adapt academically and socially.\n",
            "4.  **Quality Education:** Malaysia boasts a growing number of reputable local universities and many international branch campuses of universities from the UK, Australia, and the US (e.g., Monash University Malaysia, University of Nottingham Malaysia, Heriot-Watt University Malaysia). This allows students to gain a world-class education at a fraction of the cost.\n",
            "5.  **Strategic Location & Travel Opportunities:** Located in Southeast Asia, Malaysia offers easy and affordable travel to neighboring countries like Thailand, Singapore, Indonesia, Vietnam, Cambodia, and the Philippines, allowing for exciting weekend getaways and cultural exploration.\n",
            "6.  **Delicious & Diverse Food:** Malaysian cuisine is a highlight, offering a vast array of affordable and flavorful dishes from various cultures.\n",
            "7.  **Warm Climate:** For those who enjoy tropical weather, Malaysia offers consistent warmth and sunshine year-round (though with humidity and rain).\n",
            "\n",
            "### Cons & Challenges of Studying in Malaysia:\n",
            "\n",
            "1.  **Humidity & Heat:** The tropical climate can be a challenge for those unaccustomed to high heat and humidity.\n",
            "2.  **Traffic:** Major cities, especially Kuala Lumpur, can experience significant traffic congestion. While public transport is improving, it may not cover all areas comprehensively.\n",
            "3.  **Bureaucracy:** Dealing with immigration for student visas and renewals can sometimes be a lengthy and bureaucratic process.\n",
            "4.  **Limited Post-Study Work Opportunities:** While there are some opportunities, the pathways for international students to gain significant work experience or permanent residency after graduation are generally more limited compared to countries like Australia.\n",
            "5.  **Cultural Adjustments:** Despite the multiculturalism, there can still be cultural nuances and sensitivities to navigate.\n",
            "\n",
            "### Daily Life as an International Student:\n",
            "\n",
            "*   **Accommodation:** Options range from on-campus hostels to off-campus apartments/condos shared with other students, often equipped with facilities like pools and gyms.\n",
            "*   **Food:** Eating out is common and very affordable, with food courts, hawker centers, and restaurants offering a huge variety.\n",
            "*   **Transportation:** Public transport in major cities includes LRT, MRT, Monorail, and buses. Ride-sharing apps like Grab are also very popular and convenient.\n",
            "*   **Social Life:** Universities have active student clubs and societies. There are also many shopping malls, cinemas, cafes, and natural attractions to explore.\n",
            "\n",
            "---\n",
            "\n",
            "## Part 2: Transferring from Malaysia to Australia\n",
            "\n",
            "Transferring from a Malaysian institution to an Australian one is a common pathway for students seeking different academic, career, or lifestyle opportunities.\n",
            "\n",
            "### Why Transfer to Australia?\n",
            "\n",
            "1.  **World-Class Universities:** Australia boasts several highly-ranked universities globally, offering a strong academic reputation and diverse study programs.\n",
            "2.  **Post-Study Work Visa (PSW):** Australia offers generous Post-Study Work visa options (Temporary Graduate Visa - Subclass 485), allowing eligible graduates to stay and work for 2-4 years (or more for specific qualifications/regions) after completing their studies. This is a major draw for international students.\n",
            "3.  **Potential Pathway to Permanent Residency (PR):** While not guaranteed, completing a degree in Australia and gaining work experience can open up pathways to permanent residency for some, particularly in high-demand occupations.\n",
            "4.  **Higher Earning Potential:** Generally, salaries and career opportunities in Australia can be higher compared to Malaysia, especially for certain professions.\n",
            "5.  **Lifestyle:** Australia offers a high quality of life, beautiful natural landscapes, a strong job market, and a vibrant multicultural society.\n",
            "\n",
            "### Types of Transfers:\n",
            "\n",
            "1.  **Direct Transfer/Articulation Agreements:** Some Malaysian universities, especially the branch campuses of Australian universities, have direct articulation agreements. This means specific programs are designed for seamless credit transfer, often allowing you to complete part of your degree in Malaysia and the remainder in Australia, sometimes with guaranteed credit recognition.\n",
            "2.  **Credit Transfer (Advanced Standing):** More commonly, students apply to an Australian university as a new applicant but request credit for subjects successfully completed in Malaysia. The Australian university assesses your Malaysian transcripts and course outlines to determine how many credits they will grant. This can reduce your study duration and tuition costs in Australia.\n",
            "\n",
            "### The Transfer Process:\n",
            "\n",
            "1.  **Research & Course Selection:** Identify Australian universities and courses that align with your Malaysian studies and future goals. Check their admission requirements, including academic prerequisites and English language proficiency (IELTS, PTE Academic).\n",
            "2.  **Credit Assessment:** This is crucial. Contact the Australian universities' admissions or international offices to inquire about their credit transfer policies. You'll typically need to provide detailed course outlines/syllabi from your Malaysian studies.\n",
            "3.  **Application:** Apply directly to the Australian university or through an authorized education agent. Ensure all required documents (transcripts, certificates, passport, English test results, course outlines for credit assessment) are included.\n",
            "4.  **Receive Offer Letter:** If successful, you'll receive an offer letter detailing the course, duration, fees, and the amount of credit granted (if any).\n",
            "5.  **Genuine Temporary Entrant (GTE) Statement:** This is a critical part of the Australian student visa application. You must demonstrate that you intend to stay in Australia temporarily for study and will return to your home country (or move elsewhere) after your visa expires. This involves writing a detailed statement and providing supporting evidence of your circumstances in your home country, career goals, and reasons for choosing Australia.\n",
            "6.  **Financial Requirements:** You must provide evidence of sufficient funds to cover your tuition fees, living expenses, and travel for the duration of your stay in Australia.\n",
            "7.  **Overseas Student Health Cover (OSHC):** You must purchase OSHC for the entire duration of your stay in Australia.\n",
            "8.  **Visa Application (Subclass 500):** Once you have your Confirmation of Enrolment (CoE) and OSHC, you can apply for the Australian Student Visa online.\n",
            "\n",
            "### Key Considerations & Challenges for Transferring:\n",
            "\n",
            "1.  **Credit Loss:** Not all credits from your Malaysian degree may be transferable, especially if the course content or credit system differs significantly. This could mean you have to repeat some subjects or extend your study duration in Australia.\n",
            "2.  **Cost:** Australia is significantly more expensive than Malaysia in terms of tuition fees and living costs. Plan your finances thoroughly.\n",
            "3.  **GTE Assessment:** The GTE requirement can be stringent. You need to articulate a clear and convincing case for your temporary stay.\n",
            "4.  **Visa Processing Time:** Australian student visa processing can take time, so apply well in advance.\n",
            "5.  **Cultural & Academic Adjustment:** While English is spoken, the academic culture, teaching styles, and social norms in Australia might differ from Malaysia.\n",
            "6.  **Competition:** Entry into popular Australian universities and courses can be competitive.\n",
            "\n",
            "### Benefits of the Transfer:\n",
            "\n",
            "*   **Enhanced Academic Profile:** A degree from a highly-ranked Australian university can significantly boost your resume.\n",
            "*   **Global Networking:** Opportunities to connect with students and professionals from around the world.\n",
            "*   **Diverse Career Prospects:** Access to a wider range of industries and job opportunities, especially with the PSW visa.\n",
            "*   **Personal Growth:** Living and studying in a new country fosters independence, adaptability, and resilience.\n",
            "\n",
            "---\n",
            "\n",
            "In summary, studying in Malaysia offers an accessible and affordable entry point to international education, with a vibrant multicultural experience. Transferring to Australia can then provide a pathway to world-class education, valuable post-study work experience, and potential long-term opportunities, though it comes with higher costs and a more stringent visa process. Thorough research, financial planning, and a clear understanding of your goals are essential for a successful journey.\n"
          ]
        }
      ]
    },
    {
      "cell_type": "markdown",
      "source": [
        "### GLOBAL"
      ],
      "metadata": {
        "id": "Hb9QgpqKUaIi"
      }
    },
    {
      "cell_type": "code",
      "source": [
        "from agents import Agent, Runner, AsyncOpenAI, set_default_openai_client, set_tracing_disabled, set_default_openai_api\n",
        "\n",
        "set_tracing_disabled(True)\n",
        "set_default_openai_api(\"chat_completions\")\n",
        "\n",
        "external_client = AsyncOpenAI(\n",
        "    api_key=gemini_api_key,\n",
        "    base_url=\"https://generativelanguage.googleapis.com/v1beta/openai/\",\n",
        ")\n",
        "set_default_openai_client(external_client)\n",
        "\n",
        "agent: Agent = Agent(name=\"Assistant\", instructions=\"You are a helpful assistant\", model=\"gemini-2.5-flash\")\n",
        "\n",
        "result = Runner.run_sync(agent, \"tell me something about UK\")\n",
        "\n",
        "print(result.final_output)"
      ],
      "metadata": {
        "colab": {
          "base_uri": "https://localhost:8080/"
        },
        "id": "KHLr1P7vUWhn",
        "outputId": "92a56204-b606-4b36-f5c2-19e34da7ff5f"
      },
      "execution_count": 6,
      "outputs": [
        {
          "output_type": "stream",
          "name": "stdout",
          "text": [
            "The United Kingdom (UK) is a fascinating and diverse island nation in Western Europe, rich in history, culture, and influence. Here are some key things about it:\n",
            "\n",
            "1.  **Constituent Countries:** The UK is made up of four constituent countries:\n",
            "    *   **England:** The largest and most populous, home to the capital city, London.\n",
            "    *   **Scotland:** Known for its stunning highlands, lochs, and vibrant cities like Edinburgh and Glasgow.\n",
            "    *   **Wales:** Famous for its beautiful coastline, mountains (like Snowdonia), and distinct Welsh language.\n",
            "    *   **Northern Ireland:** Located on the north-eastern part of the island of Ireland, known for its dramatic landscapes like the Giant's Causeway.\n",
            "\n",
            "2.  **Capital City:** **London** is the capital and largest city, a global hub for finance, culture, arts, and tourism. It's famous for landmarks like Big Ben, the Tower of London, Buckingham Palace, and its iconic red buses.\n",
            "\n",
            "3.  **Government & Monarchy:**\n",
            "    *   It is a **constitutional monarchy** with a **parliamentary democracy**.\n",
            "    *   **King Charles III** is the Head of State, but political power rests with the elected Parliament at Westminster.\n",
            "    *   The **Prime Minister** is the Head of Government.\n",
            "\n",
            "4.  **Language & Currency:**\n",
            "    *   The official language is **English**, but there are also native languages like Welsh (spoken in Wales) and Scottish Gaelic (spoken in parts of Scotland), as well as many other languages due to its diverse population.\n",
            "    *   The currency is the **Pound Sterling (£)**.\n",
            "\n",
            "5.  **Culture & Traditions:**\n",
            "    *   **Food & Drink:** Famous for fish and chips, Sunday roast, afternoon tea, and a strong pub culture.\n",
            "    *   **Literature:** A powerhouse of literary giants, including William Shakespeare, Jane Austen, Charles Dickens, J.K. Rowling, and many more.\n",
            "    *   **Music:** Birthplace of legendary bands and artists like The Beatles, The Rolling Stones, Queen, Adele, Ed Sheeran, and countless others across all genres.\n",
            "    *   **Sport:** Football (soccer) is the national sport, alongside rugby, cricket, and golf (invented in Scotland).\n",
            "    *   **Customs:** Known for queuing politely, a dry sense of humour, and a love for tea.\n",
            "\n",
            "6.  **History & Global Influence:**\n",
            "    *   The UK has a long and influential history, having been a major global power and the centre of the **British Empire**.\n",
            "    *   It played a pivotal role in the **Industrial Revolution**, shaping the modern world in terms of technology, science, and political systems.\n",
            "    *   It has contributed significantly to science, philosophy, and democratic principles.\n",
            "\n",
            "7.  **Landmarks Beyond London:** Beyond the capital, you can find iconic sites like Stonehenge, the Roman Baths in Bath, Edinburgh Castle, Cardiff Castle, and the dramatic coastline of Cornwall.\n",
            "\n",
            "The UK is a land of contrasts, from ancient traditions and historic castles to cutting-edge science and diverse modern cities, making it a endlessly fascinating place to explore!\n"
          ]
        }
      ]
    },
    {
      "cell_type": "markdown",
      "source": [
        "### Set debug mode on (Optional)"
      ],
      "metadata": {
        "id": "sai9zXdAu4-t"
      }
    },
    {
      "cell_type": "code",
      "source": [
        "from agents import enable_verbose_stdout_logging\n",
        "\n",
        "enable_verbose_stdout_logging()"
      ],
      "metadata": {
        "id": "bdWaK-w8u3dD"
      },
      "execution_count": 7,
      "outputs": []
    },
    {
      "cell_type": "markdown",
      "source": [
        "> This is for Debugging and looking what happens inside of Agent SDK"
      ],
      "metadata": {
        "id": "t47o3UhOUf3v"
      }
    },
    {
      "cell_type": "code",
      "source": [
        "result = Runner.run_sync(agent, \"welcome\")\n"
      ],
      "metadata": {
        "colab": {
          "base_uri": "https://localhost:8080/"
        },
        "id": "vi8QzcUaUewY",
        "outputId": "861fbb0a-80f4-4a17-af4c-42bf7f54a737"
      },
      "execution_count": 8,
      "outputs": [
        {
          "output_type": "stream",
          "name": "stdout",
          "text": [
            "Tracing is disabled. Not creating trace Agent workflow\n"
          ]
        },
        {
          "output_type": "stream",
          "name": "stderr",
          "text": [
            "DEBUG:openai.agents:Tracing is disabled. Not creating trace Agent workflow\n"
          ]
        },
        {
          "output_type": "stream",
          "name": "stdout",
          "text": [
            "Setting current trace: no-op\n"
          ]
        },
        {
          "output_type": "stream",
          "name": "stderr",
          "text": [
            "DEBUG:openai.agents:Setting current trace: no-op\n"
          ]
        },
        {
          "output_type": "stream",
          "name": "stdout",
          "text": [
            "Tracing is disabled. Not creating span <agents.tracing.span_data.AgentSpanData object at 0x7871595fbb90>\n"
          ]
        },
        {
          "output_type": "stream",
          "name": "stderr",
          "text": [
            "DEBUG:openai.agents:Tracing is disabled. Not creating span <agents.tracing.span_data.AgentSpanData object at 0x7871595fbb90>\n"
          ]
        },
        {
          "output_type": "stream",
          "name": "stdout",
          "text": [
            "Running agent Assistant (turn 1)\n"
          ]
        },
        {
          "output_type": "stream",
          "name": "stderr",
          "text": [
            "DEBUG:openai.agents:Running agent Assistant (turn 1)\n"
          ]
        },
        {
          "output_type": "stream",
          "name": "stdout",
          "text": [
            "Tracing is disabled. Not creating span <agents.tracing.span_data.GenerationSpanData object at 0x7871597847d0>\n"
          ]
        },
        {
          "output_type": "stream",
          "name": "stderr",
          "text": [
            "DEBUG:openai.agents:Tracing is disabled. Not creating span <agents.tracing.span_data.GenerationSpanData object at 0x7871597847d0>\n"
          ]
        },
        {
          "output_type": "stream",
          "name": "stdout",
          "text": [
            "[\n",
            "  {\n",
            "    \"content\": \"You are a helpful assistant\",\n",
            "    \"role\": \"system\"\n",
            "  },\n",
            "  {\n",
            "    \"role\": \"user\",\n",
            "    \"content\": \"welcome\"\n",
            "  }\n",
            "]\n",
            "Tools:\n",
            "[]\n",
            "Stream: False\n",
            "Tool choice: NOT_GIVEN\n",
            "Response format: NOT_GIVEN\n",
            "\n"
          ]
        },
        {
          "output_type": "stream",
          "name": "stderr",
          "text": [
            "DEBUG:openai.agents:[\n",
            "  {\n",
            "    \"content\": \"You are a helpful assistant\",\n",
            "    \"role\": \"system\"\n",
            "  },\n",
            "  {\n",
            "    \"role\": \"user\",\n",
            "    \"content\": \"welcome\"\n",
            "  }\n",
            "]\n",
            "Tools:\n",
            "[]\n",
            "Stream: False\n",
            "Tool choice: NOT_GIVEN\n",
            "Response format: NOT_GIVEN\n",
            "\n"
          ]
        },
        {
          "output_type": "stream",
          "name": "stdout",
          "text": [
            "LLM resp:\n",
            "{\n",
            "  \"content\": \"Thank you! It's good to be here. How can I help you today?\",\n",
            "  \"refusal\": null,\n",
            "  \"role\": \"assistant\",\n",
            "  \"annotations\": null,\n",
            "  \"audio\": null,\n",
            "  \"function_call\": null,\n",
            "  \"tool_calls\": null\n",
            "}\n",
            "\n"
          ]
        },
        {
          "output_type": "stream",
          "name": "stderr",
          "text": [
            "DEBUG:openai.agents:LLM resp:\n",
            "{\n",
            "  \"content\": \"Thank you! It's good to be here. How can I help you today?\",\n",
            "  \"refusal\": null,\n",
            "  \"role\": \"assistant\",\n",
            "  \"annotations\": null,\n",
            "  \"audio\": null,\n",
            "  \"function_call\": null,\n",
            "  \"tool_calls\": null\n",
            "}\n",
            "\n"
          ]
        },
        {
          "output_type": "stream",
          "name": "stdout",
          "text": [
            "Resetting current trace\n"
          ]
        },
        {
          "output_type": "stream",
          "name": "stderr",
          "text": [
            "DEBUG:openai.agents:Resetting current trace\n"
          ]
        }
      ]
    }
  ]
}